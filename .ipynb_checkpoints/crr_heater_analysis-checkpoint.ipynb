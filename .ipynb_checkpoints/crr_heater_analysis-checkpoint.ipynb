{
 "cells": [
  {
   "cell_type": "code",
   "execution_count": null,
   "metadata": {},
   "outputs": [],
   "source": [
    "import numpy as np\n",
    "import numpy.polynomial.polynomial as poly\n",
    "import matplotlib.pyplot as plt\n",
    "import pandas as pd\n",
    "from pathlib import Path\n",
    "import warnings\n",
    "from wafer_plot import draw_wafer_plot\n",
    "\n",
    "warnings.filterwarnings('ignore')"
   ]
  },
  {
   "cell_type": "code",
   "execution_count": null,
   "metadata": {},
   "outputs": [],
   "source": [
    "p_current = Path().resolve().parent\n",
    "data_path = p_current / 'results' / 'Dione_wafer3_BO' / 'ring_data' / 'pdk_crr_test_cells_heater_reliability_100C'\n",
    "\n",
    "# volts = np.arange(0, 3.1, 0.2)\n",
    "data_dir_gen = sorted(data_path.glob(f'reticle50/*.json'))\n",
    "for dir in data_dir_gen:\n",
    "    df = pd.read_json(dir)\n",
    "    ret = df['reticle'][0]\n",
    "\n",
    "    wavel = df['wavelength'][0]\n",
    "    thrus = df['transmission_ch1'][0]\n",
    "    drops = df['transmission_ch2'][0]\n",
    "    volts = df['smu_voltage'][0]\n",
    "\n",
    "print(volts)\n",
    "print(len(thrus))\n",
    "print(len(drops))"
   ]
  },
  {
   "cell_type": "code",
   "execution_count": null,
   "metadata": {},
   "outputs": [],
   "source": [
    "# compare CRR spectra\n",
    "colors = plt.rcParams[\"axes.prop_cycle\"].by_key()[\"color\"]\n",
    "xlim = [[1306, 1309], [1303, 1306]]\n",
    "ylim = [-50, -10]\n",
    "\n",
    "v = 5\n",
    "idx = volts.index(v)\n",
    "\n",
    "fig, axes = plt.subplots(2, 2, figsize=(14, 12))\n",
    "ax = axes[0][0]\n",
    "ax.plot(wavel, thrus[idx], color=colors[0], label='thru')\n",
    "ax.set_xlabel('Wavelength (nm)')\n",
    "ax.set_ylabel('Transmission (dB)')\n",
    "ax.set_title(f'{v} V')\n",
    "# ax.set_xlim(xlim[0])\n",
    "# ax.set_ylim(ylim)\n",
    "\n",
    "ax = axes[0][1]\n",
    "ax.plot(wavel, thrus[-1], color=colors[0], label='thru')\n",
    "ax.set_xlabel('Wavelength (nm)')\n",
    "ax.set_ylabel('Transmission (dB)')\n",
    "ax.set_title('3 V')\n",
    "# ax.set_xlim(xlim[1])\n",
    "# ax.set_ylim(ylim)\n",
    "\n",
    "ax = axes[1][0]\n",
    "ax.plot(wavel, drops[idx], color=colors[1], label='drop')\n",
    "ax.set_xlabel('Wavelength (nm)')\n",
    "ax.set_ylabel('Transmission (dB)')\n",
    "# ax.set_xlim(xlim[0])\n",
    "# ax.set_ylim(ylim)\n",
    "\n",
    "ax = axes[1][1]\n",
    "ax.plot(wavel, drops[-1], color=colors[1], label='drop')\n",
    "ax.set_xlabel('Wavelength (nm)')\n",
    "ax.set_ylabel('Transmission (dB)')\n",
    "# ax.set_xlim(xlim[-1])\n",
    "# ax.set_ylim(ylim)\n"
   ]
  },
  {
   "cell_type": "code",
   "execution_count": null,
   "metadata": {},
   "outputs": [],
   "source": [
    "# Plot one dip for voltages: 1.2, 1.4, 1.6, 1.8, 2.0\n",
    "v = 1.8\n",
    "i = volts.index(v)\n",
    "\n",
    "colors = plt.rcParams[\"axes.prop_cycle\"].by_key()[\"color\"]\n",
    "xlim = [1312.5, 1314.5]\n",
    "xlim_w = [1300, 1320]\n",
    "ylim = [-50, -10]\n",
    "\n",
    "for i, v in enumerate(volts):\n",
    "    fig, axes = plt.subplots(1, 1, figsize=(7, 5))\n",
    "    ax = axes\n",
    "    ax.plot(wavel, thrus[i], color=colors[0], label='thru')\n",
    "    ax.set_xlabel('Wavelength (nm)')\n",
    "    ax.set_ylabel('Transmission (dB)')\n",
    "    ax.set_title(f'{v:.1f} V')\n",
    "    # ax.set_xlim(xlim)\n",
    "    ax.set_ylim(ylim)\n",
    "\n",
    "# ax = axes[1]\n",
    "# ax.plot(wavel, drops[i], color=colors[1], label='drop')\n",
    "# ax.set_xlabel('Wavelength (nm)')\n",
    "# ax.set_ylabel('Transmission (dB)')\n",
    "# ax.set_xlim(xlim)\n",
    "# ax.set_ylim(ylim)"
   ]
  },
  {
   "cell_type": "code",
   "execution_count": null,
   "metadata": {},
   "outputs": [],
   "source": []
  }
 ],
 "metadata": {
  "kernelspec": {
   "display_name": "Python 3",
   "language": "python",
   "name": "python3"
  },
  "language_info": {
   "codemirror_mode": {
    "name": "ipython",
    "version": 3
   },
   "file_extension": ".py",
   "mimetype": "text/x-python",
   "name": "python",
   "nbconvert_exporter": "python",
   "pygments_lexer": "ipython3",
   "version": "3.8.7"
  },
  "orig_nbformat": 4
 },
 "nbformat": 4,
 "nbformat_minor": 2
}
