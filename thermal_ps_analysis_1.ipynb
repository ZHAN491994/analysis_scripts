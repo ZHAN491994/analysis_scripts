{
 "cells": [
  {
   "cell_type": "code",
   "execution_count": null,
   "id": "2fb230f7-9d6e-4a90-ba00-684f6caacd6e",
   "metadata": {},
   "outputs": [],
   "source": [
    "import numpy as np\n",
    "import numpy.polynomial.polynomial as poly\n",
    "import matplotlib.pyplot as plt\n",
    "import pandas as pd\n",
    "from pathlib import Path\n",
    "from scipy.optimize import curve_fit\n",
    "import warnings\n",
    "import json\n",
    "from wafer_plot import draw_wafer_plot\n",
    "\n",
    "warnings.filterwarnings('ignore')"
   ]
  },
  {
   "cell_type": "code",
   "execution_count": null,
   "id": "18ee96ec-7eab-44b1-9b23-0009b3fa2f71",
   "metadata": {},
   "outputs": [],
   "source": [
    "def sin_func(x, A, P_pi, phi):\n",
    "    return A * np.sin(2 * np.pi * x / P_pi + phi) + A"
   ]
  },
  {
   "cell_type": "code",
   "execution_count": null,
   "id": "918a257c-2a57-45db-b30a-0748633fabdf",
   "metadata": {},
   "outputs": [],
   "source": [
    "root_path = Path('/Users/jiahaozhan/Google Drive/Other Computers/CM300/Dione_wafer3_BO')\n",
    "data_path = root_path / 'pdk_thermphase_test_cells'\n",
    "\n",
    "no = 3\n",
    "data_dir_gen = sorted(data_path.glob(f'reticle27/*.json'))\n",
    "for d in data_dir_gen:\n",
    "    df = pd.read_json(d)\n",
    "    # print(df.columns)\n",
    "    # print(df['wavelength'])\n",
    "    # ret = int(df['reticle'][0])\n",
    "    \n",
    "    wavel = df['wavelength'][no]\n",
    "    trans = df['transmission_ch1'][no]\n",
    "    volts = df['smu_voltage'][no]\n",
    "    currs = df['smu_current'][no]\n",
    "\n",
    "currs = [i - currs[0] for i in currs] # current should be 0 at 0 V\n",
    "currs_mA = np.multiply(currs, 1000)\n",
    "\n",
    "elec_pwrs = np.multiply(volts, currs_mA)\n",
    "res = np.divide(volts[1:], currs[1:])\n",
    "\n",
    "print(volts)\n",
    "print(currs_mA)\n",
    "print(res)"
   ]
  },
  {
   "cell_type": "code",
   "execution_count": null,
   "id": "b98c9d60-b89a-43b9-b802-89df4134b3c3",
   "metadata": {},
   "outputs": [],
   "source": [
    "# fit the transmission data at 1310 nm with a sinusoidal function\n",
    "trans_1310 = [tr[1000] for tr in trans]\n",
    "trans_1310_mW = 10**np.divide(trans_1310, 10)\n",
    "\n",
    "x_data, y_data = elec_pwrs[:11], trans_1310_mW[:11]\n",
    "x_data_new = np.arange(0, 50, 0.1)\n",
    "\n",
    "# Guess the initial parameters\n",
    "A_init = max(y_data)/2\n",
    "P_init = 2*(abs(x_data[np.where(y_data == max(y_data))][0] - x_data[np.where(y_data == min(y_data))][0]))\n",
    "phi_init = np.arcsin(y_data[0]/A_init - 1)\n",
    "p_init = [A_init, 20, phi_init]\n",
    "print(p_init)\n",
    "\n",
    "p_opt, p_cov = curve_fit(sin_func, x_data, y_data, p0=p_init)\n",
    "print(p_opt)\n",
    "\n",
    "y_predicted = sin_func(x_data, *p_opt)\n",
    "residuals = y_data - y_predicted\n",
    "ss_total = np.sum((y_data - np.mean(y_data))**2)\n",
    "ss_residual = np.sum(residuals**2)\n",
    "r_squared = 1 - (ss_residual / ss_total)\n",
    "\n",
    "fig, axes = plt.subplots(2, 1, figsize=(7, 10))\n",
    "ax = axes[0]\n",
    "# ax.plot(x_data, y_data, 'o')\n",
    "ax.plot(elec_pwrs, trans_1310_mW, 'o')\n",
    "ax.plot(x_data_new, sin_func(x_data_new, *p_opt))\n",
    "ax.set_xlabel('Electrical power (mW)')\n",
    "ax.set_ylabel('Optical power (mW)')\n",
    "ax.set_title(title)\n",
    "ax.set_xlim([0, 35])\n",
    "ax.text(4, 0, f'$R^{2}$ = {r_squared:.4f}' + '\\n' + '$P_{\\pi}$ = ' + f'{p_opt[1]:.2f} mW', fontsize=12)\n",
    "\n",
    "ax = axes[1]\n",
    "ep_data, res_data = elec_pwrs[1:], res[:]\n",
    "coefs = poly.polyfit(ep_data, res_data, 1)\n",
    "ffit = poly.Polynomial(coefs) \n",
    "ax.plot(ep_data, res_data, 'o')\n",
    "ax.plot(ep_data, ffit(ep_data))\n",
    "ax.set_xlabel('Electrical power (mW)')\n",
    "ax.set_ylabel('Heater resistance (ohm)')"
   ]
  },
  {
   "cell_type": "code",
   "execution_count": null,
   "id": "de3c6b48-5232-48cf-84f4-bbbb6609775f",
   "metadata": {},
   "outputs": [],
   "source": []
  }
 ],
 "metadata": {
  "kernelspec": {
   "display_name": "Python 3 (ipykernel)",
   "language": "python",
   "name": "python3"
  },
  "language_info": {
   "codemirror_mode": {
    "name": "ipython",
    "version": 3
   },
   "file_extension": ".py",
   "mimetype": "text/x-python",
   "name": "python",
   "nbconvert_exporter": "python",
   "pygments_lexer": "ipython3",
   "version": "3.11.4"
  }
 },
 "nbformat": 4,
 "nbformat_minor": 5
}
