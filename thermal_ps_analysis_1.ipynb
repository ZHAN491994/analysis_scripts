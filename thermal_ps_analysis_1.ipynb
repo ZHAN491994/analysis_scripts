{
 "cells": [
  {
   "cell_type": "code",
   "execution_count": 1,
   "id": "2fb230f7-9d6e-4a90-ba00-684f6caacd6e",
   "metadata": {},
   "outputs": [],
   "source": [
    "import numpy as np\n",
    "import numpy.polynomial.polynomial as poly\n",
    "import matplotlib.pyplot as plt\n",
    "import pandas as pd\n",
    "from pathlib import Path\n",
    "from scipy.optimize import curve_fit\n",
    "import warnings\n",
    "import json\n",
    "from wafer_plot import draw_wafer_plot\n",
    "\n",
    "warnings.filterwarnings('ignore')"
   ]
  },
  {
   "cell_type": "code",
   "execution_count": 2,
   "id": "18ee96ec-7eab-44b1-9b23-0009b3fa2f71",
   "metadata": {},
   "outputs": [],
   "source": [
    "def sin_func(x, A, P_pi, phi):\n",
    "    return A * np.sin(np.pi * x / P_pi + phi) + A"
   ]
  },
  {
   "cell_type": "code",
   "execution_count": 27,
   "id": "918a257c-2a57-45db-b30a-0748633fabdf",
   "metadata": {},
   "outputs": [
    {
     "name": "stdout",
     "output_type": "stream",
     "text": [
      "[0.0, 0.1, 0.2, 0.30000000000000004, 0.4, 0.5, 0.6000000000000001, 0.7000000000000001, 0.8, 0.9, 1.0, 1.1, 1.2, 1.3, 1.4, 1.5, 1.6, 1.7000000000000002, 1.8, 1.9, 2.0, 2.1, 2.2, 2.3, 2.4, 2.5]\n",
      "[ 0.         3.9624808  7.8851448 11.8220018 15.6320218 19.3890818\n",
      " 23.0818818 26.6913718 30.3240218 33.7394118 37.0514418 40.2619818\n",
      " 43.3654418 46.4572118 49.3389718 52.1235718 54.7866318 57.3475118\n",
      " 59.8025818 62.2413918 64.4951918 66.6573018 68.7281718 70.7173818\n",
      " 72.6771818 74.4911618]\n",
      "[25.23671534 25.36415057 25.37641299 25.58850065 25.78770904 25.99441437\n",
      " 26.22570339 26.38172487 26.67503528 26.98950301 27.32105949 27.67180386\n",
      " 27.9827383  28.37513529 28.77776691 29.20420452 29.64383191 30.09903496\n",
      " 30.52630966 31.01006361 31.50442552 32.01016326 32.52382853 33.02274442\n",
      " 33.56102844]\n"
     ]
    }
   ],
   "source": [
    "root_path = Path('/Users/jiahaozhan/Google Drive/Other Computers/CM300/Dione_wafer3_BO')\n",
    "data_path = root_path / 'pdk_thermphase_test_cells'\n",
    "\n",
    "no = 1\n",
    "data_dir_gen = sorted(data_path.glob(f'reticle27/*.json'))\n",
    "for d in data_dir_gen:\n",
    "    df = pd.read_json(d)\n",
    "    # print(df.columns)\n",
    "    # print(df['wavelength'])\n",
    "    # ret = int(df['reticle'][0])\n",
    "    \n",
    "    wavel = df['wavelength'][no]\n",
    "    trans = df['transmission_ch1'][no]\n",
    "    volts = df['smu_voltage'][no]\n",
    "    currs = df['smu_current'][no]\n",
    "\n",
    "currs = [i - currs[0] for i in currs] # current should be 0 at 0 V\n",
    "currs_mA = np.multiply(currs, 1000)\n",
    "\n",
    "elec_pwrs = np.multiply(volts, currs_mA)\n",
    "res = np.divide(volts[1:], currs[1:])\n",
    "\n",
    "print(volts)\n",
    "print(currs_mA)\n",
    "print(res)"
   ]
  },
  {
   "cell_type": "code",
   "execution_count": null,
   "id": "1d301e2e-ebd1-46eb-a4d2-8bb5544231c8",
   "metadata": {},
   "outputs": [],
   "source": [
    "## fit the transmission data at 1310 nm with a sinusoidal function\n",
    "trans_1310 = [tr[1000] for tr in trans]\n",
    "trans_1310_mW = 10**np.divide(trans_1310, 10)\n",
    "\n",
    "x_data, y_data = elec_pwrs[:10], trans_1310_mW[:10]\n",
    "x_data_new = np.arange(0, 50, 0.1)\n",
    "\n",
    "# Guess the initial parameters\n",
    "A_init = max(y_data)/2\n",
    "P_init = 2*(abs(x_data[np.where(y_data == max(y_data))][0] - x_data[np.where(y_data == min(y_data))][0]))\n",
    "phi_init = np.arcsin(y_data[0]/A_init - 1)\n",
    "p_init = [A_init, 8, phi_init]\n",
    "print(p_init)\n",
    "\n",
    "p_opt, p_cov = curve_fit(sin_func, x_data, y_data, p0=p_init)\n",
    "print(p_opt)\n",
    "\n",
    "y_predicted = sin_func(x_data, *p_opt)\n",
    "residuals = y_data - y_predicted\n",
    "ss_total = np.sum((y_data - np.mean(y_data))**2)\n",
    "ss_residual = np.sum(residuals**2)\n",
    "r_squared = 1 - (ss_residual / ss_total)\n",
    "\n",
    "title = f\"pdk_phasetherm: length {df['length'][no]}, shift_x {df['shift_x'][no]}, n_seg {df['n_seg'][no]}\"\n",
    "fig, axes = plt.subplots(2, 1, figsize=(7, 10))\n",
    "ax = axes[0]\n",
    "ax.plot(x_data, y_data, 'o')\n",
    "# ax.plot(elec_pwrs, trans_1310_mW, 'o')\n",
    "ax.plot(x_data_new, sin_func(x_data_new, *p_opt))\n",
    "ax.set_xlabel('Electrical power (mW)')\n",
    "ax.set_ylabel('Optical power (mW)')\n",
    "ax.set_title(title)\n",
    "ax.set_xlim([0, 35])\n",
    "ax.text(1, 0, f'$R^{2}$ = {r_squared:.4f}' + '\\n' + '$P_{\\pi}$ = ' + f'{p_opt[1]:.2f} mW', fontsize=12)\n",
    "\n",
    "ax = axes[1]\n",
    "ep_data, res_data = elec_pwrs[1:], res[:]\n",
    "coefs = poly.polyfit(ep_data, res_data, 1)\n",
    "ffit = poly.Polynomial(coefs) \n",
    "ax.plot(ep_data, res_data, 'o')\n",
    "ax.plot(ep_data, ffit(ep_data))\n",
    "ax.set_xlabel('Electrical power (mW)')\n",
    "ax.set_ylabel('Heater resistance (ohm)')"
   ]
  },
  {
   "cell_type": "code",
   "execution_count": null,
   "id": "de3c6b48-5232-48cf-84f4-bbbb6609775f",
   "metadata": {},
   "outputs": [],
   "source": []
  },
  {
   "cell_type": "code",
   "execution_count": null,
   "id": "4b2ddd56-1df3-4713-8b5d-2882199a7cf3",
   "metadata": {},
   "outputs": [],
   "source": [
    "|"
   ]
  }
 ],
 "metadata": {
  "kernelspec": {
   "display_name": "Python 3 (ipykernel)",
   "language": "python",
   "name": "python3"
  },
  "language_info": {
   "codemirror_mode": {
    "name": "ipython",
    "version": 3
   },
   "file_extension": ".py",
   "mimetype": "text/x-python",
   "name": "python",
   "nbconvert_exporter": "python",
   "pygments_lexer": "ipython3",
   "version": "3.11.4"
  }
 },
 "nbformat": 4,
 "nbformat_minor": 5
}
